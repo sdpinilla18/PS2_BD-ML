{
 "cells": [
  {
   "cell_type": "code",
   "execution_count": 159,
   "metadata": {},
   "outputs": [],
   "source": [
    "#Packages:\n",
    "import pandas as pd\n",
    "import numpy as np\n",
    "import pyreadr as pyr\n",
    "import sklearn as sk\n",
    "import matplotlib.pyplot as plt\n",
    "import scipy as sc\n",
    "import os\n",
    "from psmpy import PsmPy\n",
    "from psmpy.functions import cohenD\n",
    "from psmpy.plotting import *\n",
    "\n"
   ]
  },
  {
   "cell_type": "code",
   "execution_count": 160,
   "metadata": {},
   "outputs": [
    {
     "name": "stdout",
     "output_type": "stream",
     "text": [
      "odict_keys([None])\n",
      "odict_keys([None])\n"
     ]
    }
   ],
   "source": [
    "os.chdir(\"C:/Users/juand/Desktop/Big Data/Taller 2\") #Working directory. \n",
    "\n",
    "####Train #########\n",
    "tr_p=pyr.read_r(\"train_personas.Rds\") \n",
    "tr_h=pyr.read_r(\"train_hogares.Rds\")\n",
    "print(tr_p.keys())\n",
    "print(tr_h.keys())\n",
    "df_trp=tr_p[None] #train Data frame (individuals). \n",
    "df_trh=tr_h[None] #Train Data frame (households). "
   ]
  },
  {
   "cell_type": "code",
   "execution_count": 161,
   "metadata": {},
   "outputs": [],
   "source": [
    "df=pd.merge(df_trp, df_trh, on=\"id\") #Train master data frame (merge by unique identificator key). "
   ]
  },
  {
   "cell_type": "code",
   "execution_count": 162,
   "metadata": {},
   "outputs": [
    {
     "data": {
      "text/plain": [
       "Index(['id', 'Orden', 'Clase_x', 'Dominio_x', 'Estrato1', 'P6020', 'P6040',\n",
       "       'P6050', 'P6090', 'P6100',\n",
       "       ...\n",
       "       'Ingpcug', 'Li', 'Lp', 'Pobre', 'Indigente', 'Npobres', 'Nindigentes',\n",
       "       'Fex_c_y', 'Depto_y', 'Fex_dpto_y'],\n",
       "      dtype='object', length=157)"
      ]
     },
     "execution_count": 162,
     "metadata": {},
     "output_type": "execute_result"
    }
   ],
   "source": [
    "df.columns"
   ]
  },
  {
   "cell_type": "code",
   "execution_count": 163,
   "metadata": {},
   "outputs": [
    {
     "name": "stdout",
     "output_type": "stream",
     "text": [
      "odict_keys([None])\n",
      "odict_keys([None])\n"
     ]
    }
   ],
   "source": [
    "#Test ############3\n",
    "te_p=pyr.read_r(\"test_personas.Rds\") \n",
    "te_h=pyr.read_r(\"test_hogares.Rds\")\n",
    "print(te_p.keys())\n",
    "print(te_h.keys())\n",
    "df_tep=te_p[None] #test Data frame (individuals). \n",
    "df_teh=te_h[None] #test Data frame (households). "
   ]
  },
  {
   "cell_type": "code",
   "execution_count": 164,
   "metadata": {},
   "outputs": [],
   "source": [
    "df_test=pd.merge(df_tep, df_teh, on=\"id\") #Train master data frame (merge by unique identificator key). "
   ]
  },
  {
   "cell_type": "code",
   "execution_count": 165,
   "metadata": {},
   "outputs": [
    {
     "data": {
      "text/plain": [
       "id             0.0\n",
       "Orden          0.0\n",
       "Clase_x        0.0\n",
       "Dominio_x      0.0\n",
       "Estrato1       0.0\n",
       "              ... \n",
       "Npobres        0.0\n",
       "Nindigentes    0.0\n",
       "Fex_c_y        0.0\n",
       "Depto_y        0.0\n",
       "Fex_dpto_y     0.0\n",
       "Length: 157, dtype: float64"
      ]
     },
     "execution_count": 165,
     "metadata": {},
     "output_type": "execute_result"
    }
   ],
   "source": [
    "#Missing values count/share in train.\n",
    "df.isnull().sum() \n",
    "df.isnull().sum()/len(df) "
   ]
  },
  {
   "cell_type": "code",
   "execution_count": 166,
   "metadata": {},
   "outputs": [],
   "source": [
    "#Train ######################################\n",
    "#Convert categorical variables to dummy variables:\n",
    "estrato1_d=pd.get_dummies(df[\"Estrato1\"], prefix=\"estrato\") \n",
    "maxeduc_d=pd.get_dummies(df[\"P6210\"], prefix=\"educ\") \n",
    "\n",
    "#Merge dummy's variables data frame with master data frame:\n",
    "df=pd.merge(df, estrato1_d, left_index=True, right_index=True)\n",
    "df=pd.merge(df, maxeduc_d, left_index=True, right_index=True)\n",
    "\n",
    "#Test ######################33\n",
    "maxeduc_d=pd.get_dummies(df_test[\"P6210\"], prefix=\"educ\") \n",
    "\n",
    "#Merge dummy's variables data frame with master data frame:\n",
    "df_test=pd.merge(df_test, estrato1_d, left_index=True, right_index=True)\n",
    "df_test=pd.merge(df_test, maxeduc_d, left_index=True, right_index=True)"
   ]
  },
  {
   "cell_type": "code",
   "execution_count": 167,
   "metadata": {},
   "outputs": [],
   "source": [
    "\n",
    "#Recode variables train ###########\n",
    "df[\"Ingtotugarrp\"]=df[\"Ingtotugarr\"]/df[\"Nper\"] #Mean of household income. \n",
    "df[\"P6020\"]=np.where(df[\"P6020\"]==1, 0, 1) #Recode sex, woman=1 \n",
    "df[\"P6585s3\"]=np.where(((df[\"P6585s3\"]==9) & (df[\"P6585s3\"]==2)), 0, 1) #Recode sex, woman=1 \n",
    "\n",
    "#Test ##################\n",
    "df_test[\"P6020\"]=np.where(df_test[\"P6020\"]==1, 0, 1) #Recode sex, woman=1 \n",
    "df_test[\"P6585s3\"]=np.where(((df_test[\"P6585s3\"]==9) & (df_test[\"P6585s3\"]==2)), 0, 1) #Recode sex, woman=1 \n",
    "\n"
   ]
  },
  {
   "cell_type": "code",
   "execution_count": 168,
   "metadata": {},
   "outputs": [
    {
     "name": "stdout",
     "output_type": "stream",
     "text": [
      "\\begin{tabular}{lrrrrrr}\n",
      "\\toprule\n",
      "{} &     count &        mean &         std &  min &         50\\% &          max \\\\\n",
      "\\midrule\n",
      "Ingtotugarr &  542941.0 &  2494456.17 &  2640107.05 &  0.0 &  1796407.33 &  88833333.33 \\\\\n",
      "Ingtot      &  447512.0 &   775591.56 &  1380447.03 &  0.0 &   430000.00 &  85833333.33 \\\\\n",
      "P6040       &  542941.0 &       33.55 &       21.64 &  0.0 &       31.00 &       110.00 \\\\\n",
      "Nper        &  542941.0 &        4.25 &        2.07 &  1.0 &        4.00 &        22.00 \\\\\n",
      "Pobre       &  542941.0 &        0.25 &        0.43 &  0.0 &        0.00 &         1.00 \\\\\n",
      "P6020       &  542941.0 &        0.53 &        0.50 &  0.0 &        1.00 &         1.00 \\\\\n",
      "estrato\\_1.0 &  542941.0 &        0.22 &        0.41 &  0.0 &        0.00 &         1.00 \\\\\n",
      "estrato\\_2.0 &  542941.0 &        0.26 &        0.44 &  0.0 &        0.00 &         1.00 \\\\\n",
      "estrato\\_3.0 &  542941.0 &        0.22 &        0.42 &  0.0 &        0.00 &         1.00 \\\\\n",
      "estrato\\_4.0 &  542941.0 &        0.11 &        0.32 &  0.0 &        0.00 &         1.00 \\\\\n",
      "estrato\\_5.0 &  542941.0 &        0.10 &        0.30 &  0.0 &        0.00 &         1.00 \\\\\n",
      "estrato\\_6.0 &  542941.0 &        0.09 &        0.28 &  0.0 &        0.00 &         1.00 \\\\\n",
      "educ\\_1.0    &  542941.0 &        0.05 &        0.22 &  0.0 &        0.00 &         1.00 \\\\\n",
      "educ\\_2.0    &  542941.0 &        0.03 &        0.17 &  0.0 &        0.00 &         1.00 \\\\\n",
      "educ\\_3.0    &  542941.0 &        0.25 &        0.43 &  0.0 &        0.00 &         1.00 \\\\\n",
      "educ\\_4.0    &  542941.0 &        0.17 &        0.38 &  0.0 &        0.00 &         1.00 \\\\\n",
      "educ\\_5.0    &  542941.0 &        0.22 &        0.41 &  0.0 &        0.00 &         1.00 \\\\\n",
      "educ\\_6.0    &  542941.0 &        0.24 &        0.42 &  0.0 &        0.00 &         1.00 \\\\\n",
      "P6585s3     &  542941.0 &        1.00 &        0.00 &  1.0 &        1.00 &         1.00 \\\\\n",
      "Oc          &  248269.0 &        1.00 &        0.00 &  1.0 &        1.00 &         1.00 \\\\\n",
      "\\bottomrule\n",
      "\\end{tabular}\n",
      "\n"
     ]
    }
   ],
   "source": [
    "#Generate descriptive statistics of train dataset\n",
    "ds=(df[[\"Ingtotugarr\", \"Ingtot\", \"P6040\", \"Nper\", \"Pobre\", \"P6020\", \"estrato_1.0\", \"estrato_2.0\", \"estrato_3.0\", \n",
    "\"estrato_4.0\", \"estrato_5.0\", \"estrato_6.0\", \"educ_1.0\", \"educ_2.0\", \"educ_3.0\", \"educ_4.0\", \"educ_5.0\", \"educ_6.0\", \"P6585s3\", \"Oc\"]].describe(include=\"all\"))\n",
    "ds=ds.T\n",
    "ds=ds[[\"count\", \"mean\", \"std\", \"min\", \"50%\", \"max\"]]\n",
    "ds=ds.round(2)\n",
    "print(ds.to_latex())"
   ]
  },
  {
   "cell_type": "code",
   "execution_count": 173,
   "metadata": {},
   "outputs": [
    {
     "data": {
      "image/png": "[encoded data removed]",
      "text/plain": [
       "<Figure size 720x576 with 1 Axes>"
      ]
     },
     "metadata": {},
     "output_type": "display_data"
    }
   ],
   "source": [
    "\n",
    "df[\"Ingtotugarr_m\"]=df[\"Ingtotugarr\"]/1000000\n",
    "#Histogram of total household income:\n",
    "plt.hist(df[\"Ingtotugarr_m\"], bins=450, color = (0.17, 0.44, 0.69, 0.9))\n",
    "plt.xlim(0,12)\n",
    "#plt.ylim(0,10000)\n",
    "plt.xticks([i for i in range(11)])\n",
    "plt.ylabel(\"Personas\")\n",
    "plt.xlabel(\"COP millones (pesos)\")\n",
    "plt.savefig(\"histy.jpg\", bbox_inches=\"tight\")\n",
    "plt.show()"
   ]
  },
  {
   "cell_type": "code",
   "execution_count": 220,
   "metadata": {},
   "outputs": [],
   "source": [
    "###Split train and test using training database. \n",
    "#Train sub test database using PSM to reproduce test \n",
    "\n",
    "\n",
    "df_test[\"test\"]=1\n",
    "df[\"test\"]=0\n",
    "c=list(df_test.columns)\n",
    "df_2=df[c]\n",
    "df_tt=df_2.append(df_test, ignore_index=True)\n",
    "df_tt=df_tt.reset_index()\n",
    "df_tt[\"index\"]=pd.to_numeric(df_tt[\"index\"])\n",
    "df_tt[\"test\"]=pd.to_numeric(df_tt[\"test\"])"
   ]
  },
  {
   "cell_type": "code",
   "execution_count": 221,
   "metadata": {},
   "outputs": [
    {
     "ename": "AssertionError",
     "evalue": "Only numeric dtypes allowed",
     "output_type": "error",
     "traceback": [
      "\u001b[1;31m---------------------------------------------------------------------------\u001b[0m",
      "\u001b[1;31mAssertionError\u001b[0m                            Traceback (most recent call last)",
      "\u001b[1;32m<ipython-input-221-d95aef11f5ff>\u001b[0m in \u001b[0;36m<module>\u001b[1;34m\u001b[0m\n\u001b[1;32m----> 1\u001b[1;33m \u001b[0mpsm\u001b[0m \u001b[1;33m=\u001b[0m \u001b[0mPsmPy\u001b[0m\u001b[1;33m(\u001b[0m\u001b[0mdf_tt\u001b[0m\u001b[1;33m,\u001b[0m \u001b[0mtreatment\u001b[0m\u001b[1;33m=\u001b[0m\u001b[1;34m'test'\u001b[0m\u001b[1;33m,\u001b[0m \u001b[0mindx\u001b[0m\u001b[1;33m=\u001b[0m\u001b[1;34m\"index\"\u001b[0m\u001b[1;33m)\u001b[0m\u001b[1;33m\u001b[0m\u001b[1;33m\u001b[0m\u001b[0m\n\u001b[0m",
      "\u001b[1;32mc:\\ProgramData\\Anaconda3\\lib\\site-packages\\psmpy\\psmpy.py\u001b[0m in \u001b[0;36m__init__\u001b[1;34m(self, data, treatment, indx, exclude, target)\u001b[0m\n\u001b[0;32m     51\u001b[0m         \u001b[0mself\u001b[0m\u001b[1;33m.\u001b[0m\u001b[0mmodel_accuracy\u001b[0m \u001b[1;33m=\u001b[0m \u001b[1;33m[\u001b[0m\u001b[1;33m]\u001b[0m\u001b[1;33m\u001b[0m\u001b[1;33m\u001b[0m\u001b[0m\n\u001b[0;32m     52\u001b[0m         \u001b[0mself\u001b[0m\u001b[1;33m.\u001b[0m\u001b[0mdataIDindx\u001b[0m \u001b[1;33m=\u001b[0m \u001b[0mself\u001b[0m\u001b[1;33m.\u001b[0m\u001b[0mdata\u001b[0m\u001b[1;33m.\u001b[0m\u001b[0mset_index\u001b[0m\u001b[1;33m(\u001b[0m\u001b[0mindx\u001b[0m\u001b[1;33m)\u001b[0m\u001b[1;33m\u001b[0m\u001b[1;33m\u001b[0m\u001b[0m\n\u001b[1;32m---> 53\u001b[1;33m         assert all(ptypes.is_numeric_dtype(\n\u001b[0m\u001b[0;32m     54\u001b[0m             self.dataIDindx[xvar]) for xvar in self.xvars), \"Only numeric dtypes allowed\"\n\u001b[0;32m     55\u001b[0m         \u001b[0mself\u001b[0m\u001b[1;33m.\u001b[0m\u001b[0mtreatmentdf\u001b[0m \u001b[1;33m=\u001b[0m \u001b[0mself\u001b[0m\u001b[1;33m.\u001b[0m\u001b[0mdataIDindx\u001b[0m\u001b[1;33m[\u001b[0m\u001b[0mself\u001b[0m\u001b[1;33m.\u001b[0m\u001b[0mdataIDindx\u001b[0m\u001b[1;33m[\u001b[0m\u001b[0mtreatment\u001b[0m\u001b[1;33m]\u001b[0m \u001b[1;33m==\u001b[0m \u001b[1;36m1\u001b[0m\u001b[1;33m]\u001b[0m\u001b[1;33m\u001b[0m\u001b[1;33m\u001b[0m\u001b[0m\n",
      "\u001b[1;31mAssertionError\u001b[0m: Only numeric dtypes allowed"
     ]
    }
   ],
   "source": [
    "psm = PsmPy(df_tt, treatment='test', indx=\"index\")"
   ]
  }
 ],
 "metadata": {
  "kernelspec": {
   "display_name": "Python 3.8.8 ('base')",
   "language": "python",
   "name": "python3"
  },
  "language_info": {
   "codemirror_mode": {
    "name": "ipython",
    "version": 3
   },
   "file_extension": ".py",
   "mimetype": "text/x-python",
   "name": "python",
   "nbconvert_exporter": "python",
   "pygments_lexer": "ipython3",
   "version": "3.8.8"
  },
  "orig_nbformat": 4,
  "vscode": {
   "interpreter": {
    "hash": "ad2bdc8ecc057115af97d19610ffacc2b4e99fae6737bb82f5d7fb13d2f2c186"
   }
  }
 },
 "nbformat": 4,
 "nbformat_minor": 2
}
