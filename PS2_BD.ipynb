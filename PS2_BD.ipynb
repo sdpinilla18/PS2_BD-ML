{
 "cells": [
  {
   "cell_type": "code",
   "execution_count": 78,
   "metadata": {},
   "outputs": [],
   "source": [
    "#Packages:\n",
    "import pandas as pd\n",
    "import numpy as np\n",
    "import pyreadr as pyr\n",
    "import sklearn as sk\n",
    "import matplotlib.pyplot as plt\n",
    "import scipy as sc\n",
    "import os\n"
   ]
  },
  {
   "cell_type": "code",
   "execution_count": 79,
   "metadata": {},
   "outputs": [
    {
     "name": "stdout",
     "output_type": "stream",
     "text": [
      "odict_keys([None])\n",
      "odict_keys([None])\n"
     ]
    }
   ],
   "source": [
    "os.chdir(\"C:/Users/ASUS/Documents/Universidad de los Andes/2022-2/Big Data and Machine Learning for Applied Economics/Taller 2/data\") #Working directory. \n",
    "tr_p=pyr.read_r(\"train_personas.Rds\") \n",
    "tr_h=pyr.read_r(\"train_hogares.Rds\")\n",
    "print(tr_p.keys())\n",
    "print(tr_h.keys())\n",
    "df_trp=tr_p[None] #Data frame (individuals). \n",
    "df_trh=tr_h[None] #Data frame (households). "
   ]
  },
  {
   "cell_type": "code",
   "execution_count": 80,
   "metadata": {},
   "outputs": [],
   "source": [
    "df=pd.merge(df_trp, df_trh, on=\"id\") #Master data frame (merge by unique identificator key). "
   ]
  },
  {
   "cell_type": "code",
   "execution_count": 81,
   "metadata": {},
   "outputs": [
    {
     "data": {
      "text/plain": [
       "id             0.0\n",
       "Orden          0.0\n",
       "Clase_x        0.0\n",
       "Dominio_x      0.0\n",
       "Estrato1       0.0\n",
       "              ... \n",
       "Npobres        0.0\n",
       "Nindigentes    0.0\n",
       "Fex_c_y        0.0\n",
       "Depto_y        0.0\n",
       "Fex_dpto_y     0.0\n",
       "Length: 157, dtype: float64"
      ]
     },
     "execution_count": 81,
     "metadata": {},
     "output_type": "execute_result"
    }
   ],
   "source": [
    "#Missing values count/share. \n",
    "df.isnull().sum() \n",
    "df.isnull().sum()/len(df) "
   ]
  },
  {
   "cell_type": "code",
   "execution_count": 82,
   "metadata": {},
   "outputs": [],
   "source": [
    "#Convert categorical variables to dummy variables:\n",
    "estrato1_d=pd.get_dummies(df[\"Estrato1\"], prefix=\"estrato\") \n",
    "maxeduc_d=pd.get_dummies(df[\"P6210\"], prefix=\"educ\") \n",
    "\n",
    "#Merge dummy's variables data frame with master data frame:\n",
    "df=pd.merge(df, estrato1_d, left_index=True, right_index=True)\n",
    "df=pd.merge(df, maxeduc_d, left_index=True, right_index=True)"
   ]
  },
  {
   "cell_type": "code",
   "execution_count": 83,
   "metadata": {},
   "outputs": [
    {
     "name": "stdout",
     "output_type": "stream",
     "text": [
      "\\begin{tabular}{lrrrrrr}\n",
      "\\toprule\n",
      "{} &     count &       mean &         std &  min &        50\\% &          max \\\\\n",
      "\\midrule\n",
      "Ingtotugarr &  164960.0 &  864194.36 &  1225467.34 &  0.0 &  541666.67 &  88833333.33 \\\\\n",
      "Ingtot      &  447512.0 &  775591.56 &  1380447.03 &  0.0 &  430000.00 &  85833333.33 \\\\\n",
      "P6040       &  542941.0 &      33.55 &       21.64 &  0.0 &      31.00 &       110.00 \\\\\n",
      "Nper        &  542941.0 &       4.25 &        2.07 &  1.0 &       4.00 &        22.00 \\\\\n",
      "Pobre       &  542941.0 &       0.25 &        0.43 &  0.0 &       0.00 &         1.00 \\\\\n",
      "P6020       &  542941.0 &       1.53 &        0.50 &  1.0 &       2.00 &         2.00 \\\\\n",
      "estrato\\_1.0 &  542941.0 &       0.22 &        0.41 &  0.0 &       0.00 &         1.00 \\\\\n",
      "estrato\\_2.0 &  542941.0 &       0.26 &        0.44 &  0.0 &       0.00 &         1.00 \\\\\n",
      "estrato\\_3.0 &  542941.0 &       0.22 &        0.42 &  0.0 &       0.00 &         1.00 \\\\\n",
      "estrato\\_4.0 &  542941.0 &       0.11 &        0.32 &  0.0 &       0.00 &         1.00 \\\\\n",
      "estrato\\_5.0 &  542941.0 &       0.10 &        0.30 &  0.0 &       0.00 &         1.00 \\\\\n",
      "estrato\\_6.0 &  542941.0 &       0.09 &        0.28 &  0.0 &       0.00 &         1.00 \\\\\n",
      "educ\\_1.0    &  542941.0 &       0.05 &        0.22 &  0.0 &       0.00 &         1.00 \\\\\n",
      "educ\\_2.0    &  542941.0 &       0.03 &        0.17 &  0.0 &       0.00 &         1.00 \\\\\n",
      "educ\\_3.0    &  542941.0 &       0.25 &        0.43 &  0.0 &       0.00 &         1.00 \\\\\n",
      "educ\\_4.0    &  542941.0 &       0.17 &        0.38 &  0.0 &       0.00 &         1.00 \\\\\n",
      "educ\\_5.0    &  542941.0 &       0.22 &        0.41 &  0.0 &       0.00 &         1.00 \\\\\n",
      "educ\\_6.0    &  542941.0 &       0.24 &        0.42 &  0.0 &       0.00 &         1.00 \\\\\n",
      "\\bottomrule\n",
      "\\end{tabular}\n",
      "\n"
     ]
    }
   ],
   "source": [
    "#Descriptive statistics data frame:\n",
    "df[\"Ingtotugarr\"]=df_trh[\"Ingtotugarr\"]/df_trh[\"Nper\"] #Mean of household income. \n",
    "ds=(df[[\"Ingtotugarr\", \"Ingtot\", \"P6040\", \"Nper\", \"Pobre\", \"P6020\", \"estrato_1.0\", \"estrato_2.0\", \"estrato_3.0\", \n",
    "\"estrato_4.0\", \"estrato_5.0\", \"estrato_6.0\", \"educ_1.0\", \"educ_2.0\", \"educ_3.0\", \"educ_4.0\", \"educ_5.0\", \"educ_6.0\"]].describe(include=\"all\"))\n",
    "ds=ds.T\n",
    "ds=ds[[\"count\", \"mean\", \"std\", \"min\", \"50%\", \"max\"]]\n",
    "ds=ds.round(2)\n",
    "print(ds.to_latex())"
   ]
  },
  {
   "cell_type": "code",
   "execution_count": 87,
   "metadata": {},
   "outputs": [
    {
     "data": {
      "image/png": "[encoded data removed]",
      "text/plain": [
       "<Figure size 432x288 with 1 Axes>"
      ]
     },
     "metadata": {
      "needs_background": "light"
     },
     "output_type": "display_data"
    }
   ],
   "source": [
    "#Winsorize data:\n",
    "yth=df[\"Ingtotugarr\"]\n",
    "yth=sc.stats.mstats.winsorize(yth, limits=[0, 0.05], inplace=True)\n",
    "\n",
    "#Histogram of total household income:\n",
    "plt.hist(yth, bins=100)\n",
    "plt.ylabel(\"Personas\")\n",
    "plt.xlabel(\"COP (pesos)\")\n",
    "plt.savefig(\"histy.jpg\", bbox_inches=\"tight\")\n",
    "plt.show()"
   ]
  },
  {
   "cell_type": "code",
   "execution_count": 53,
   "metadata": {},
   "outputs": [
    {
     "data": {
      "text/plain": [
       "count    5.429410e+05\n",
       "mean     2.296200e+06\n",
       "std      1.731159e+06\n",
       "min      0.000000e+00\n",
       "25%      1.010000e+06\n",
       "50%      1.796407e+06\n",
       "75%      3.040000e+06\n",
       "max      6.838333e+06\n",
       "Name: Ingtotugarr, dtype: float64"
      ]
     },
     "execution_count": 53,
     "metadata": {},
     "output_type": "execute_result"
    }
   ],
   "source": [
    "yth.describe()"
   ]
  }
 ],
 "metadata": {
  "kernelspec": {
   "display_name": "Python 3.9.13 64-bit",
   "language": "python",
   "name": "python3"
  },
  "language_info": {
   "codemirror_mode": {
    "name": "ipython",
    "version": 3
   },
   "file_extension": ".py",
   "mimetype": "text/x-python",
   "name": "python",
   "nbconvert_exporter": "python",
   "pygments_lexer": "ipython3",
   "version": "3.9.13"
  },
  "orig_nbformat": 4,
  "vscode": {
   "interpreter": {
    "hash": "14958d3aee5f1cad06795f787e54b96185c25fb40dfec723a5be941f3a531b8c"
   }
  }
 },
 "nbformat": 4,
 "nbformat_minor": 2
}
